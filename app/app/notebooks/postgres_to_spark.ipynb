{
 "cells": [
  {
   "cell_type": "code",
   "execution_count": null,
   "metadata": {
    "ExecuteTime": {
     "end_time": "2019-04-16T21:43:44.392876Z",
     "start_time": "2019-04-16T21:43:40.037624Z"
    }
   },
   "outputs": [],
   "source": [
    "from esper.lib.postgres import export_all_to_csv\n",
    "from esper.lib.spark import spark\n",
    "from esper.models import Video"
   ]
  },
  {
   "cell_type": "code",
   "execution_count": null,
   "metadata": {
    "ExecuteTime": {
     "end_time": "2019-04-16T21:43:46.891904Z",
     "start_time": "2019-04-16T21:43:46.653122Z"
    }
   },
   "outputs": [],
   "source": [
    "# Download Postgres database into local CSV files at /app/data/postgres\n",
    "models, paths = export_all_to_csv()"
   ]
  },
  {
   "cell_type": "code",
   "execution_count": null,
   "metadata": {
    "ExecuteTime": {
     "end_time": "2019-04-16T21:43:58.375852Z",
     "start_time": "2019-04-16T21:43:47.702129Z"
    }
   },
   "outputs": [],
   "source": [
    "# Import CSV files into spark at /app/data/spark\n",
    "spark.bulk_import_csv(models, paths)"
   ]
  },
  {
   "cell_type": "code",
   "execution_count": null,
   "metadata": {
    "ExecuteTime": {
     "end_time": "2019-04-16T21:43:59.003302Z",
     "start_time": "2019-04-16T21:43:58.379164Z"
    }
   },
   "outputs": [],
   "source": [
    "# Get the Spark dataframe corresponding to a Django model\n",
    "video_df = spark.load(Video)\n",
    "video_df.show()"
   ]
  }
 ],
 "metadata": {
  "kernelspec": {
   "display_name": "Django Shell-Plus",
   "language": "python",
   "name": "django_extensions"
  },
  "language_info": {
   "codemirror_mode": {
    "name": "ipython",
    "version": 3
   },
   "file_extension": ".py",
   "mimetype": "text/x-python",
   "name": "python",
   "nbconvert_exporter": "python",
   "pygments_lexer": "ipython3",
   "version": "3.5.2"
  },
  "toc": {
   "nav_menu": {},
   "number_sections": true,
   "sideBar": true,
   "skip_h1_title": false,
   "toc_cell": false,
   "toc_position": {},
   "toc_section_display": "block",
   "toc_window_display": false
  }
 },
 "nbformat": 4,
 "nbformat_minor": 2
}
